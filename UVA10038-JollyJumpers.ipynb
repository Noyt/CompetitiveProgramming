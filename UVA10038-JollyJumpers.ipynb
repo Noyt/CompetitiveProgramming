{
 "cells": [
  {
   "cell_type": "code",
   "execution_count": 21,
   "metadata": {},
   "outputs": [
    {
     "name": "stdout",
     "output_type": "stream",
     "text": [
      "4 1 2 3 4\n",
      "Not Jolly\n",
      "5 3 5 4 3 1\n",
      "Not Jolly\n",
      "\n"
     ]
    }
   ],
   "source": [
    "def main():\n",
    "    import numpy as np\n",
    "    #f = open(\"I_O_file\")\n",
    "    try:\n",
    "        while 1:\n",
    "\n",
    "            #values = f.readline().split()\n",
    "            values = input().split()\n",
    "            if(values == []):\n",
    "                break\n",
    "            length = int(values[0])\n",
    "            values = values[1:]\n",
    "\n",
    "            if(length == 1):\n",
    "                print(\"Jolly\")\n",
    "\n",
    "            diffs = np.zeros(length-1)\n",
    "            for i in range(length-1):\n",
    "                idx = np.abs(int(values[i])-int(values[i+1]))-1\n",
    "                if(idx <= length-1 and idx >= 0):\n",
    "                    diffs[idx] = 1\n",
    "\n",
    "            if(diffs.sum() == length-1):\n",
    "                print(\"Jolly\")\n",
    "            else:\n",
    "                print(\"Not Jolly\")\n",
    "            \n",
    "    except EOFError:\n",
    "        pass\n",
    "    \n",
    "if __name__ == \"__main__\":\n",
    "    main()"
   ]
  },
  {
   "cell_type": "code",
   "execution_count": 4,
   "metadata": {},
   "outputs": [
    {
     "data": {
      "text/plain": [
       "5.0"
      ]
     },
     "execution_count": 4,
     "metadata": {},
     "output_type": "execute_result"
    }
   ],
   "source": [
    "import numpy as np\n",
    "\n",
    "a = np.ones(5)\n",
    "a.sum()"
   ]
  }
 ],
 "metadata": {
  "kernelspec": {
   "display_name": "Python 3",
   "language": "python",
   "name": "python3"
  },
  "language_info": {
   "codemirror_mode": {
    "name": "ipython",
    "version": 3
   },
   "file_extension": ".py",
   "mimetype": "text/x-python",
   "name": "python",
   "nbconvert_exporter": "python",
   "pygments_lexer": "ipython3",
   "version": "3.7.4"
  }
 },
 "nbformat": 4,
 "nbformat_minor": 2
}
