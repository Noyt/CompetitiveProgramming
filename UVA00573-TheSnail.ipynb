{
 "cells": [
  {
   "cell_type": "code",
   "execution_count": 6,
   "metadata": {},
   "outputs": [
    {
     "name": "stdout",
     "output_type": "stream",
     "text": [
      "success on day 3\n",
      "failure on day 4\n",
      "failure on day 7\n",
      "failure on day 68\n",
      "success on day 20\n",
      "failure on day 2\n"
     ]
    }
   ],
   "source": [
    "def main():\n",
    "    \n",
    "    #f = open(\"I_O_file\")\n",
    "    \n",
    "    while 1:\n",
    "        #values = f.readline().split()\n",
    "        values = input().split()\n",
    "        heigth = int(values[0])\n",
    "        if heigth == 0:\n",
    "            break\n",
    "        up = int(values[1])\n",
    "        down = int(values[2])\n",
    "        fatigue = float(values[3])\n",
    "        \n",
    "        day = 0\n",
    "        position = 0\n",
    "        fatigLoss = up*(fatigue/100)\n",
    "        failure = False\n",
    "        while(position <= heigth and failure == False):\n",
    "            if(day != 0):\n",
    "                up = max(up - fatigLoss, 0)\n",
    "                position = position - down\n",
    "                if(position < 0):\n",
    "                    failure = True\n",
    "                    break\n",
    "            position = position + up\n",
    "            day = day + 1\n",
    "        \n",
    "        if(failure):\n",
    "            print(\"failure on day {}\".format(day))\n",
    "        else:\n",
    "            print(\"success on day {}\".format(day))\n",
    "    \n",
    "    \n",
    "if __name__ == \"__main__\":\n",
    "    main()"
   ]
  }
 ],
 "metadata": {
  "kernelspec": {
   "display_name": "Python 3",
   "language": "python",
   "name": "python3"
  },
  "language_info": {
   "codemirror_mode": {
    "name": "ipython",
    "version": 3
   },
   "file_extension": ".py",
   "mimetype": "text/x-python",
   "name": "python",
   "nbconvert_exporter": "python",
   "pygments_lexer": "ipython3",
   "version": "3.7.4"
  }
 },
 "nbformat": 4,
 "nbformat_minor": 2
}
