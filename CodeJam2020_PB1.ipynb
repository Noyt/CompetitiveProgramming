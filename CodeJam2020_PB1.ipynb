{
 "cells": [
  {
   "cell_type": "code",
   "execution_count": 12,
   "metadata": {},
   "outputs": [
    {
     "name": "stdout",
     "output_type": "stream",
     "text": [
      "Case #1: 4 0 0\n",
      "Case #2: 9 4 4\n",
      "Case #3: 8 0 2\n"
     ]
    }
   ],
   "source": [
    "import numpy as np\n",
    "\n",
    "def main():\n",
    "    \n",
    "    def isUnique(arr):\n",
    "        return np.unique(arr).size == arr.size\n",
    "    \n",
    "    #f = open(\"I_O_file\")\n",
    "    #nb = int(f.readline())\n",
    "    nb = int(input())\n",
    "    \n",
    "    for i in range(nb):\n",
    "        #dim = int(f.readline())\n",
    "        dim = int(input())\n",
    "        mat = np.zeros([dim, dim])\n",
    "        rows = 0\n",
    "        for j in range(dim):\n",
    "            #num_list = f.readline().split()\n",
    "            num_list = input().split()\n",
    "            mat[j] = [int(k) for k in num_list]\n",
    "            if(isUnique(mat[j]) == False):\n",
    "                rows = rows + 1\n",
    "        \n",
    "        tra = np.trace(mat)\n",
    "        \n",
    "        cols = 0\n",
    "        for j in range(dim):\n",
    "            if(isUnique(mat[:,j]) == False):\n",
    "                cols = cols + 1\n",
    "        print(\"Case #{}: {} {} {}\".format(i+1, int(tra), rows, cols))\n",
    "    \n",
    "if __name__ == \"__main__\":\n",
    "    main()"
   ]
  },
  {
   "cell_type": "code",
   "execution_count": 8,
   "metadata": {},
   "outputs": [
    {
     "data": {
      "text/plain": [
       "array([[0., 0., 0., 0.],\n",
       "       [0., 0., 0., 0.],\n",
       "       [0., 0., 0., 0.]])"
      ]
     },
     "execution_count": 8,
     "metadata": {},
     "output_type": "execute_result"
    }
   ],
   "source": [
    "a = np.zeros([3,4])\n",
    "a"
   ]
  }
 ],
 "metadata": {
  "kernelspec": {
   "display_name": "Python 3",
   "language": "python",
   "name": "python3"
  },
  "language_info": {
   "codemirror_mode": {
    "name": "ipython",
    "version": 3
   },
   "file_extension": ".py",
   "mimetype": "text/x-python",
   "name": "python",
   "nbconvert_exporter": "python",
   "pygments_lexer": "ipython3",
   "version": "3.7.4"
  }
 },
 "nbformat": 4,
 "nbformat_minor": 2
}
