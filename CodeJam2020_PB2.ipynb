{
 "cells": [
  {
   "cell_type": "code",
   "execution_count": 32,
   "metadata": {},
   "outputs": [
    {
     "name": "stdout",
     "output_type": "stream",
     "text": [
      "Case #1: 0((2)1)\n",
      "Case #2: (((3))1(2))\n",
      "Case #3: ((((4))))\n",
      "Case #4: ((22)1)\n"
     ]
    }
   ],
   "source": [
    "import numpy as np\n",
    "\n",
    "def main():\n",
    "    \n",
    "    def parenthesis(arr):\n",
    "        count = 0\n",
    "        change = 0\n",
    "        res = []\n",
    "        for i in range(arr.size):\n",
    "            change = arr[i]-count\n",
    "            for j in range(abs(change)):\n",
    "                if(change < 0):\n",
    "                    res.append(\")\")\n",
    "                else:\n",
    "                    res.append(\"(\")\n",
    "            \n",
    "            res.append(str(arr[i]))           \n",
    "            count = count + change\n",
    "                       \n",
    "        for i in range(count):\n",
    "            res.append(\")\")\n",
    "            \n",
    "        return ''.join(res)\n",
    "            \n",
    "    #f = open(\"I_O_file\")\n",
    "    #nb = int(f.readline())\n",
    "    nb = int(input())\n",
    "    \n",
    "    for i in range(nb):\n",
    "        \n",
    "        #tmp = f.readline()[0:-1]\n",
    "        tmp = input()\n",
    "        line = np.array([int(k) for k in str(tmp)])        \n",
    "        \n",
    "        \n",
    "        print(\"Case #{}: {}\".format(i+1, parenthesis(line)))\n",
    "    \n",
    "if __name__ == \"__main__\":\n",
    "    main()"
   ]
  },
  {
   "cell_type": "code",
   "execution_count": 21,
   "metadata": {},
   "outputs": [
    {
     "data": {
      "text/plain": [
       "array([1, 2, 3])"
      ]
     },
     "execution_count": 21,
     "metadata": {},
     "output_type": "execute_result"
    }
   ],
   "source": [
    "x = "
   ]
  }
 ],
 "metadata": {
  "kernelspec": {
   "display_name": "Python 3",
   "language": "python",
   "name": "python3"
  },
  "language_info": {
   "codemirror_mode": {
    "name": "ipython",
    "version": 3
   },
   "file_extension": ".py",
   "mimetype": "text/x-python",
   "name": "python",
   "nbconvert_exporter": "python",
   "pygments_lexer": "ipython3",
   "version": "3.7.4"
  }
 },
 "nbformat": 4,
 "nbformat_minor": 2
}
