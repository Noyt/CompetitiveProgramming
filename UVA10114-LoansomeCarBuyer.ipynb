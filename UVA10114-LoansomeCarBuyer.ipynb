{
 "cells": [
  {
   "cell_type": "code",
   "execution_count": 22,
   "metadata": {},
   "outputs": [
    {
     "ename": "IndexError",
     "evalue": "index 0 is out of bounds for axis 0 with size 0",
     "output_type": "error",
     "traceback": [
      "\u001b[0;31m---------------------------------------------------------------------------\u001b[0m",
      "\u001b[0;31mIndexError\u001b[0m                                Traceback (most recent call last)",
      "\u001b[0;32m<ipython-input-22-26434b01a978>\u001b[0m in \u001b[0;36m<module>\u001b[0;34m\u001b[0m\n\u001b[1;32m     44\u001b[0m \u001b[0;34m\u001b[0m\u001b[0m\n\u001b[1;32m     45\u001b[0m \u001b[0;32mif\u001b[0m \u001b[0m__name__\u001b[0m \u001b[0;34m==\u001b[0m \u001b[0;34m\"__main__\"\u001b[0m\u001b[0;34m:\u001b[0m\u001b[0;34m\u001b[0m\u001b[0;34m\u001b[0m\u001b[0m\n\u001b[0;32m---> 46\u001b[0;31m     \u001b[0mmain\u001b[0m\u001b[0;34m(\u001b[0m\u001b[0;34m)\u001b[0m\u001b[0;34m\u001b[0m\u001b[0;34m\u001b[0m\u001b[0m\n\u001b[0m",
      "\u001b[0;32m<ipython-input-22-26434b01a978>\u001b[0m in \u001b[0;36mmain\u001b[0;34m()\u001b[0m\n\u001b[1;32m      7\u001b[0m     \u001b[0mres\u001b[0m \u001b[0;34m=\u001b[0m \u001b[0mnp\u001b[0m\u001b[0;34m.\u001b[0m\u001b[0marray\u001b[0m\u001b[0;34m(\u001b[0m\u001b[0mstdin\u001b[0m\u001b[0;34m.\u001b[0m\u001b[0mreadline\u001b[0m\u001b[0;34m(\u001b[0m\u001b[0;34m)\u001b[0m\u001b[0;34m.\u001b[0m\u001b[0msplit\u001b[0m\u001b[0;34m(\u001b[0m\u001b[0;34m)\u001b[0m\u001b[0;34m)\u001b[0m\u001b[0;34m.\u001b[0m\u001b[0mastype\u001b[0m\u001b[0;34m(\u001b[0m\u001b[0mnp\u001b[0m\u001b[0;34m.\u001b[0m\u001b[0mfloat\u001b[0m\u001b[0;34m)\u001b[0m\u001b[0;34m\u001b[0m\u001b[0;34m\u001b[0m\u001b[0m\n\u001b[1;32m      8\u001b[0m \u001b[0;34m\u001b[0m\u001b[0m\n\u001b[0;32m----> 9\u001b[0;31m     \u001b[0;32mwhile\u001b[0m\u001b[0;34m(\u001b[0m\u001b[0mint\u001b[0m\u001b[0;34m(\u001b[0m\u001b[0mres\u001b[0m\u001b[0;34m[\u001b[0m\u001b[0;36m0\u001b[0m\u001b[0;34m]\u001b[0m\u001b[0;34m)\u001b[0m \u001b[0;34m>=\u001b[0m \u001b[0;36m0\u001b[0m\u001b[0;34m)\u001b[0m\u001b[0;34m:\u001b[0m\u001b[0;34m\u001b[0m\u001b[0;34m\u001b[0m\u001b[0m\n\u001b[0m\u001b[1;32m     10\u001b[0m         \u001b[0mdepRates\u001b[0m \u001b[0;34m=\u001b[0m \u001b[0;34m{\u001b[0m\u001b[0;34m}\u001b[0m\u001b[0;34m\u001b[0m\u001b[0;34m\u001b[0m\u001b[0m\n\u001b[1;32m     11\u001b[0m         \u001b[0;32mfor\u001b[0m \u001b[0mi\u001b[0m \u001b[0;32min\u001b[0m \u001b[0mrange\u001b[0m\u001b[0;34m(\u001b[0m\u001b[0mint\u001b[0m\u001b[0;34m(\u001b[0m\u001b[0mres\u001b[0m\u001b[0;34m[\u001b[0m\u001b[0;34m-\u001b[0m\u001b[0;36m1\u001b[0m\u001b[0;34m]\u001b[0m\u001b[0;34m)\u001b[0m\u001b[0;34m)\u001b[0m\u001b[0;34m:\u001b[0m\u001b[0;34m\u001b[0m\u001b[0;34m\u001b[0m\u001b[0m\n",
      "\u001b[0;31mIndexError\u001b[0m: index 0 is out of bounds for axis 0 with size 0"
     ]
    }
   ],
   "source": [
    "import stdin, stdout\n",
    "import numpy as np\n",
    "\n",
    "def main():\n",
    "    #f = open(\"I_O_file\")\n",
    "    \n",
    "    res = np.array(stdin.readline().split()).astype(np.float)\n",
    "        \n",
    "    while(int(res[0]) >= 0):\n",
    "        depRates = {}\n",
    "        for i in range(int(res[-1])):\n",
    "            k, v = f.readline().split()\n",
    "            depRates[k] = float(v)\n",
    "\n",
    "        i = 0\n",
    "        dep = depRates[str(i)]\n",
    "        owed = res[2]\n",
    "        worth = (res[2]+res[1])*(1-dep)\n",
    "        if(res[0] == 0):\n",
    "            amount = res[2]\n",
    "        else:\n",
    "            amount = res[2]/res[0]\n",
    "        while(worth < owed and i < res[0]):\n",
    "            i = i + 1\n",
    "            if(str(i) in depRates):\n",
    "                dep = depRates[str(i)]\n",
    "            \n",
    "            owed = owed - amount\n",
    "            worth = worth*(1-dep)\n",
    "            \n",
    "            #print(\"owed {}\".format(owed))\n",
    "            #print(\"worth {}\".format(worth))\n",
    "            \n",
    "\n",
    "        if(i == 1):\n",
    "            print(\"1 month\")\n",
    "        else:\n",
    "            print(\"{} months\".format(i))\n",
    "        \n",
    "        res = np.array(f.readline().split()).astype(np.float)\n",
    "    \n",
    "    #f.close()\n",
    "\n",
    "\n",
    "if __name__ == \"__main__\":\n",
    "    main()"
   ]
  },
  {
   "cell_type": "code",
   "execution_count": 31,
   "metadata": {},
   "outputs": [
    {
     "name": "stdout",
     "output_type": "stream",
     "text": [
      "True\n"
     ]
    },
    {
     "ename": "AttributeError",
     "evalue": "'list' object has no attribute 'toInt'",
     "output_type": "error",
     "traceback": [
      "\u001b[0;31m---------------------------------------------------------------------------\u001b[0m",
      "\u001b[0;31mAttributeError\u001b[0m                            Traceback (most recent call last)",
      "\u001b[0;32m<ipython-input-31-e2e8a1d5da31>\u001b[0m in \u001b[0;36m<module>\u001b[0;34m\u001b[0m\n\u001b[1;32m      2\u001b[0m \u001b[0mprint\u001b[0m\u001b[0;34m(\u001b[0m\u001b[0;34m'0'\u001b[0m \u001b[0;32min\u001b[0m \u001b[0mexamp\u001b[0m\u001b[0;34m)\u001b[0m\u001b[0;34m\u001b[0m\u001b[0;34m\u001b[0m\u001b[0m\n\u001b[1;32m      3\u001b[0m \u001b[0ma\u001b[0m \u001b[0;34m=\u001b[0m \u001b[0;34m[\u001b[0m\u001b[0;34m'2'\u001b[0m\u001b[0;34m,\u001b[0m\u001b[0;34m'3'\u001b[0m\u001b[0;34m]\u001b[0m\u001b[0;34m\u001b[0m\u001b[0;34m\u001b[0m\u001b[0m\n\u001b[0;32m----> 4\u001b[0;31m \u001b[0ma\u001b[0m\u001b[0;34m.\u001b[0m\u001b[0mtoInt\u001b[0m\u001b[0;34m(\u001b[0m\u001b[0;34m)\u001b[0m\u001b[0;34m\u001b[0m\u001b[0;34m\u001b[0m\u001b[0m\n\u001b[0m",
      "\u001b[0;31mAttributeError\u001b[0m: 'list' object has no attribute 'toInt'"
     ]
    }
   ],
   "source": [
    "examp = {'0': '.10', '1': '.03', '3': '.002'}\n",
    "print('0' in examp)\n",
    "a = ['2','3']\n",
    "a.toInt()"
   ]
  },
  {
   "cell_type": "code",
   "execution_count": 27,
   "metadata": {},
   "outputs": [
    {
     "name": "stdout",
     "output_type": "stream",
     "text": [
      "30 500.0 15000.0 3\n",
      "0 .10\n",
      "1 .03\n",
      "3 .002\n",
      "12 500.0 9999.99 2\n",
      "0 .05\n",
      "2 .1\n",
      "60 2400.0 30000.0 3\n",
      "0 .2\n",
      "1 .05\n",
      "12 .025\n",
      "-99 0 17000 1\n",
      "\n"
     ]
    }
   ],
   "source": [
    "from sys import stdin, stdout\n",
    "import numpy as np\n",
    "\n",
    "def main():\n",
    "    f = open(\"I_O_file\")\n",
    "    \n",
    "    res = np.array(f.read())\n",
    "\n",
    "    print(res)\n",
    "    \n",
    "    while(int(res[0]) >= 0):\n",
    "        depRates = {}\n",
    "        for i in range(int(res[-1])):\n",
    "            k, v = f.readline().split()\n",
    "            depRates[k] = float(v)\n",
    "\n",
    "        i = 0\n",
    "        dep = depRates[str(i)]\n",
    "        owed = res[2]\n",
    "        worth = (res[2]+res[1])*(1-dep)\n",
    "        if(res[0] == 0):\n",
    "            amount = res[2]\n",
    "        else:\n",
    "            amount = res[2]/res[0]\n",
    "        while(worth < owed and i < res[0]):\n",
    "            i = i + 1\n",
    "            if(str(i) in depRates):\n",
    "                dep = depRates[str(i)]\n",
    "            \n",
    "            owed = owed - amount\n",
    "            worth = worth*(1-dep)\n",
    "            \n",
    "            #print(\"owed {}\".format(owed))\n",
    "            #print(\"worth {}\".format(worth))\n",
    "            \n",
    "\n",
    "        if(i == 1):\n",
    "            print(\"1 month\")\n",
    "        else:\n",
    "            print(\"{} months\".format(i))\n",
    "        \n",
    "        res = np.array(f.readline().split()).astype(np.float)\n",
    "    \n",
    "    #f.close()\n",
    "\n",
    "    \n",
    "if __name__ == \"__main__\":\n",
    "    main()"
   ]
  },
  {
   "cell_type": "code",
   "execution_count": null,
   "metadata": {},
   "outputs": [],
   "source": []
  }
 ],
 "metadata": {
  "kernelspec": {
   "display_name": "Python 3",
   "language": "python",
   "name": "python3"
  },
  "language_info": {
   "codemirror_mode": {
    "name": "ipython",
    "version": 3
   },
   "file_extension": ".py",
   "mimetype": "text/x-python",
   "name": "python",
   "nbconvert_exporter": "python",
   "pygments_lexer": "ipython3",
   "version": "3.7.4"
  }
 },
 "nbformat": 4,
 "nbformat_minor": 2
}
