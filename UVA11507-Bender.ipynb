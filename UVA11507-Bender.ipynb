{
 "cells": [
  {
   "cell_type": "code",
   "execution_count": 6,
   "metadata": {},
   "outputs": [
    {
     "name": "stdout",
     "output_type": "stream",
     "text": [
      "+x\n",
      "+z\n",
      "+z\n",
      "-x\n",
      "+z\n"
     ]
    }
   ],
   "source": [
    "def change(curr, dirn):\n",
    "    if(dirn == \"No\"):\n",
    "        return curr\n",
    "    if(curr == '+x'):\n",
    "        return dirn\n",
    "    if(curr == '-x'):\n",
    "        if(dirn[0]=='-'):\n",
    "            return '+'+dirn[1]\n",
    "        else:\n",
    "            return '-'+dirn[1]\n",
    "    if(curr == '+y'):\n",
    "        if(dirn==\"+y\"):\n",
    "            return \"-x\"\n",
    "        elif(dirn==\"-y\"):\n",
    "            return \"+x\"\n",
    "        else:\n",
    "            return curr\n",
    "    if(curr == '-y'):\n",
    "        if(dirn==\"+y\"):\n",
    "            return \"+x\"\n",
    "        elif(dirn==\"-y\"):\n",
    "            return \"-x\"\n",
    "        else:\n",
    "            return curr\n",
    "        \n",
    "    if(curr == '+z'):\n",
    "        if(dirn==\"+z\"):\n",
    "            return \"-x\"\n",
    "        elif(dirn==\"-z\"):\n",
    "            return \"+x\"\n",
    "        else:\n",
    "            return curr\n",
    "    if(curr == '-z'):\n",
    "        if(dirn==\"+z\"):\n",
    "            return \"+x\"\n",
    "        elif(dirn==\"-z\"):\n",
    "            return \"-x\"\n",
    "        else:\n",
    "            return curr\n",
    "    \n",
    "\n",
    "def main():\n",
    "    #f = open(\"I_O_file\")\n",
    "    #res = f.readline()\n",
    "    res = input()\n",
    "    while(int(res[0]) != 0):\n",
    "        curr = \"+x\"\n",
    "        #inputs = f.readline().split()\n",
    "        inputs = input().split()\n",
    "        for dirn in inputs:\n",
    "            curr = change(curr, dirn)\n",
    "        print(curr)\n",
    "        \n",
    "        #res = f.readline()\n",
    "        res = input()\n",
    "            \n",
    "if __name__ == \"__main__\":\n",
    "    main()"
   ]
  }
 ],
 "metadata": {
  "kernelspec": {
   "display_name": "Python 3",
   "language": "python",
   "name": "python3"
  },
  "language_info": {
   "codemirror_mode": {
    "name": "ipython",
    "version": 3
   },
   "file_extension": ".py",
   "mimetype": "text/x-python",
   "name": "python",
   "nbconvert_exporter": "python",
   "pygments_lexer": "ipython3",
   "version": "3.7.4"
  }
 },
 "nbformat": 4,
 "nbformat_minor": 2
}
