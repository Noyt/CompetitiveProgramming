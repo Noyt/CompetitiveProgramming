{
 "cells": [
  {
   "cell_type": "code",
   "execution_count": 42,
   "metadata": {},
   "outputs": [
    {
     "name": "stdout",
     "output_type": "stream",
     "text": [
      "Case #1: CJC\n",
      "Case #2: IMPOSSIBLE\n",
      "Case #3: JCCJJ\n",
      "Case #4: CJ\n"
     ]
    }
   ],
   "source": [
    "import numpy as np\n",
    "\n",
    "def main():\n",
    "            \n",
    "    #f = open(\"I_O_file\")\n",
    "    #nb = int(f.readline())\n",
    "    nb = int(input())\n",
    "    \n",
    "    for i in range(nb):\n",
    "        #tasks = int(f.readline())\n",
    "        tasks = int(input())\n",
    "        mat = np.zeros([tasks, 4])\n",
    "        for j in range(tasks):\n",
    "            #mat[j,0:2] = f.readline().split()\n",
    "            mat[j,0:2] = input().split()\n",
    "            mat[j,3] = j\n",
    "        mat = mat[np.argsort(mat[:,0])]\n",
    "\n",
    "        camOcc = [False,0] #0\n",
    "        jamOcc = [False,0] #1\n",
    "        imp = False\n",
    "        for j in range(tasks):\n",
    "            if(j==0):\n",
    "                mat[j,2] = 0\n",
    "                camOcc = [True, mat[j,1]]\n",
    "            elif(j==1):\n",
    "                mat[j,2] = 1\n",
    "                jamOcc = [True, mat[j,1]]\n",
    "            else:\n",
    "                #free workers\n",
    "                if(mat[j,0] >= camOcc[1]):\n",
    "                    camOcc = [False, -1]\n",
    "                if(mat[j,0] >= jamOcc[1]):\n",
    "                    jamOcc = [False, -1]\n",
    "                \n",
    "                if(camOcc[0] and jamOcc[0]):\n",
    "                    imp = True\n",
    "                    break\n",
    "                if(camOcc[0] == False):\n",
    "                    mat[j,2] = 0\n",
    "                    camOcc = [True, mat[j,1]]\n",
    "                elif(jamOcc[0] == False):\n",
    "                    mat[j,2] = 1\n",
    "                    jamOcc = [True, mat[j,1]]\n",
    "                \n",
    "                \n",
    "        \n",
    "        mat = mat[np.argsort(mat[:,3])]\n",
    "        \n",
    "        if(imp):\n",
    "            print(\"Case #{}: IMPOSSIBLE\".format(i+1))\n",
    "        else:\n",
    "            res = np.where(mat[:,2] == 0, 'C', 'J')\n",
    "            lis = []\n",
    "            for k in res:\n",
    "                lis.append(k)\n",
    "            res = ''.join(lis)\n",
    "            print(\"Case #{}: {}\".format(i+1, res))\n",
    "    \n",
    "if __name__ == \"__main__\":\n",
    "    main()"
   ]
  },
  {
   "cell_type": "code",
   "execution_count": 15,
   "metadata": {},
   "outputs": [
    {
     "data": {
      "text/plain": [
       "array(['1', '2', 'c'], dtype='<U21')"
      ]
     },
     "execution_count": 15,
     "metadata": {},
     "output_type": "execute_result"
    }
   ],
   "source": [
    "a = np.array([1,2,\"c\"])\n",
    "a"
   ]
  }
 ],
 "metadata": {
  "kernelspec": {
   "display_name": "Python 3",
   "language": "python",
   "name": "python3"
  },
  "language_info": {
   "codemirror_mode": {
    "name": "ipython",
    "version": 3
   },
   "file_extension": ".py",
   "mimetype": "text/x-python",
   "name": "python",
   "nbconvert_exporter": "python",
   "pygments_lexer": "ipython3",
   "version": "3.7.4"
  }
 },
 "nbformat": 4,
 "nbformat_minor": 2
}
