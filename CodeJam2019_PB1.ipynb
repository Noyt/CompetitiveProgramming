{
 "cells": [
  {
   "cell_type": "code",
   "execution_count": 20,
   "metadata": {},
   "outputs": [
    {
     "name": "stdout",
     "output_type": "stream",
     "text": [
      "3\n",
      "4\n",
      "Case #0: 3 1\n",
      "940\n",
      "Case #1: 930 10\n",
      "4444\n",
      "Case #2: 3333 1111\n"
     ]
    }
   ],
   "source": [
    "def main():\n",
    "    \n",
    "    def div(nb):\n",
    "        A = \"\"\n",
    "        B = \"\"\n",
    "        for i in range(len(nb)):\n",
    "            if(nb[i]=='4'):\n",
    "                A = A + '3'\n",
    "                B = B + '1'\n",
    "            else:\n",
    "                A = A + nb[i]\n",
    "                B = B + '0'\n",
    "        return A, B\n",
    "    \n",
    "    #f = open(\"I_O_file\")\n",
    "    #nb = int(f.readline())\n",
    "    nb = int(input())\n",
    "    \n",
    "    for i in range(nb):\n",
    "        #inp = f.readline()\n",
    "        inp = input()\n",
    "        A, B = div(inp)\n",
    "        print(\"Case #{}: {} {}\".format(i+1, int(A), int(B)))\n",
    "    \n",
    "if __name__ == \"__main__\":\n",
    "    main()"
   ]
  }
 ],
 "metadata": {
  "kernelspec": {
   "display_name": "Python 3",
   "language": "python",
   "name": "python3"
  },
  "language_info": {
   "codemirror_mode": {
    "name": "ipython",
    "version": 3
   },
   "file_extension": ".py",
   "mimetype": "text/x-python",
   "name": "python",
   "nbconvert_exporter": "python",
   "pygments_lexer": "ipython3",
   "version": "3.7.4"
  }
 },
 "nbformat": 4,
 "nbformat_minor": 2
}
