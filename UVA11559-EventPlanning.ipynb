{
 "cells": [
  {
   "cell_type": "code",
   "execution_count": 13,
   "metadata": {},
   "outputs": [
    {
     "name": "stdout",
     "output_type": "stream",
     "text": [
      "3 1000 2 3\n",
      "200\n",
      "0 2 2\n",
      "300\n",
      "27 3 20\n",
      "900\n",
      "5 2000 2 4\n",
      "300\n",
      "4 3 0 4\n",
      "450\n",
      "7 8 0 13\n",
      "stay home\n",
      "\n"
     ]
    }
   ],
   "source": [
    "def main():\n",
    "    \n",
    "    #f = open(\"I_O_file\")\n",
    "    try :\n",
    "        while 1:\n",
    "            #values = f.readline().split()\n",
    "            values = input().split()\n",
    "            #if(values == []):\n",
    "            #    break\n",
    "            people = int(values[0])\n",
    "            budget = int(values[1])\n",
    "            hotels = int(values[2])\n",
    "            weeks = int(values[3])\n",
    "\n",
    "            bestTotalCost = 10000000\n",
    "            dealFound = False\n",
    "\n",
    "            for i in range(hotels):\n",
    "                #nightCost = int(f.readline())\n",
    "                nightCost = int(input())\n",
    "                #places = f.readline().split()\n",
    "                places = input().split()\n",
    "                hotelTotalCost = nightCost*people \n",
    "                for j in range(weeks):\n",
    "                    if int(places[j]) >= people and hotelTotalCost <= budget and hotelTotalCost < bestTotalCost:\n",
    "                        bestTotalCost = hotelTotalCost\n",
    "                        dealFound = True\n",
    "\n",
    "            if dealFound:\n",
    "                print(bestTotalCost)\n",
    "            else:\n",
    "                print(\"stay home\")\n",
    "        \n",
    "    except EOFError:\n",
    "        pass\n",
    "    \n",
    "if __name__ == \"__main__\":\n",
    "    main()"
   ]
  }
 ],
 "metadata": {
  "kernelspec": {
   "display_name": "Python 3",
   "language": "python",
   "name": "python3"
  },
  "language_info": {
   "codemirror_mode": {
    "name": "ipython",
    "version": 3
   },
   "file_extension": ".py",
   "mimetype": "text/x-python",
   "name": "python",
   "nbconvert_exporter": "python",
   "pygments_lexer": "ipython3",
   "version": "3.7.4"
  }
 },
 "nbformat": 4,
 "nbformat_minor": 2
}
